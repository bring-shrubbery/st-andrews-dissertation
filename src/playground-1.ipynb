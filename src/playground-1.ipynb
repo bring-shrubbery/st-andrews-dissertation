{
 "cells": [
  {
   "cell_type": "code",
   "execution_count": 6,
   "metadata": {},
   "outputs": [],
   "source": [
    "from loading import loadBinaryDataset\n",
    "import os\n",
    "import math\n",
    "import numpy as np\n",
    "import matplotlib.pyplot as plt"
   ]
  },
  {
   "cell_type": "code",
   "execution_count": 7,
   "metadata": {},
   "outputs": [],
   "source": [
    "def plotAndSaveImagesSet(images_set):\n",
    "    columns = 10\n",
    "    rows = math.ceil(len(images_set) / columns)\n",
    "    \n",
    "    fig=plt.figure(figsize=(columns*2, rows*2))\n",
    "    for i in range(1, columns*rows+1):\n",
    "    #     img = np.random.randint(10, size=(h,w))\n",
    "        if len(images_set) < i: break\n",
    "        img = images_set[i-1].reshape(512, 512)\n",
    "        fig.add_subplot(rows, columns, i)\n",
    "        plt.imshow(img, cmap='bone', vmin=0, vmax=2000)\n",
    "    # plt.show()"
   ]
  },
  {
   "cell_type": "code",
   "execution_count": 8,
   "metadata": {},
   "outputs": [
    {
     "name": "stdout",
     "output_type": "stream",
     "text": [
      "90\n",
      "90\n",
      "20\n",
      "20\n",
      "28\n",
      "28\n",
      "90\n",
      "90\n",
      "20\n",
      "20\n",
      "28\n",
      "28\n"
     ]
    }
   ],
   "source": [
    "X_train, y_train, X_val, y_val, X_test, y_test = loadBinaryDataset()"
   ]
  },
  {
   "cell_type": "code",
   "execution_count": 16,
   "metadata": {},
   "outputs": [],
   "source": [
    "def gaussian_noise(img, mean=0, sigma=0.03):\n",
    "    img = img.copy()\n",
    "    noise = np.random.normal(mean, sigma, img.shape).astype(np.uint16)\n",
    "    mask_overflow_upper = img+noise >= 1.0\n",
    "    mask_overflow_lower = img+noise < 0\n",
    "    noise[mask_overflow_upper] = 1.0\n",
    "    noise[mask_overflow_lower] = 0\n",
    "    img += noise\n",
    "    return img"
   ]
  },
  {
   "cell_type": "code",
   "execution_count": 13,
   "metadata": {},
   "outputs": [],
   "source": [
    "def flipImagesLR(image_set, image_set_y):\n",
    "    image_set_side = len(image_set)\n",
    "    new_X = []\n",
    "    new_y = []\n",
    "    \n",
    "    for i in range(image_set_side):\n",
    "        flipped_lr_image = np.fliplr(image_set[i])\n",
    "        new_X.append(flipped_lr_image)\n",
    "        new_y.append(image_set_y[i])\n",
    "        \n",
    "    new_X = np.array(new_X)\n",
    "    new_y = np.array(new_y)\n",
    "    \n",
    "    return new_X, new_y\n",
    "\n",
    "def flipImagesUD(image_set, image_set_y):\n",
    "    image_set_side = len(image_set)\n",
    "    new_X = []\n",
    "    new_y = []\n",
    "    \n",
    "    for i in range(image_set_side):\n",
    "        flipped_lr_image = np.flipud(image_set[i])\n",
    "        new_X.append(flipped_lr_image)\n",
    "        new_y.append(image_set_y[i])\n",
    "        \n",
    "    new_X = np.array(new_X)\n",
    "    new_y = np.array(new_y)\n",
    "    \n",
    "    return new_X, new_y"
   ]
  },
  {
   "cell_type": "code",
   "execution_count": 47,
   "metadata": {},
   "outputs": [],
   "source": [
    "def addGaussianNoise(image_set, image_set_y):\n",
    "    image_set_side = len(image_set)\n",
    "    new_X = []\n",
    "    new_y = []\n",
    "    \n",
    "    for i in range(image_set_side):\n",
    "        noise = np.random.normal(0, 500, image_set[i].shape)\n",
    "        noisy_image = image_set[i] + noise\n",
    "        new_X.append(noisy_image)\n",
    "        new_y.append(image_set_y[i])\n",
    "        \n",
    "    new_X = np.array(new_X)\n",
    "    new_y = np.array(new_y)\n",
    "    \n",
    "    return new_X, new_y"
   ]
  },
  {
   "cell_type": "code",
   "execution_count": null,
   "metadata": {},
   "outputs": [],
   "source": [
    "def loadAugmentedBinaryDataset():\n",
    "    X_train, y_train, X_val, y_val, X_test, y_test = loadBinaryDataset()\n",
    "\n",
    "    flipped_lr_X_train, flipped_lr_y_train = flipImagesLR(X_train, y_train)\n",
    "    flipped_ud_X_train, flipped_ud_y_train = flipImagesUD(X_train, y_train)\n",
    "    flipped_lr_ud_X_train, flipped_lr_ud_y_train = flipImagesLR(flipped_ud_X_train, flipped_ud_y_train)\n",
    "    \n",
    "    flipped_lr_X_val, flipped_lr_y_val = flipImagesLR(X_val, y_val)\n",
    "    flipped_ud_X_val, flipped_ud_y_val = flipImagesUD(X_val, y_val)\n",
    "    flipped_lr_ud_X_val, flipped_lr_ud_y_val = flipImagesLR(flipped_ud_X_val, flipped_ud_y_val)\n",
    "    \n",
    "    flipped_lr_X_test, flipped_lr_y_test = flipImagesLR(X_test, y_test)\n",
    "    flipped_ud_X_test, flipped_ud_y_test = flipImagesUD(X_test, y_test)\n",
    "    flipped_lr_ud_X_test, flipped_lr_ud_y_test = flipImagesLR(flipped_ud_X_test, flipped_ud_y_test)\n",
    "    \n",
    "    \n",
    "    \n",
    "    \n",
    "    "
   ]
  }
 ],
 "metadata": {
  "kernelspec": {
   "display_name": "Python 3",
   "language": "python",
   "name": "python3"
  },
  "language_info": {
   "codemirror_mode": {
    "name": "ipython",
    "version": 3
   },
   "file_extension": ".py",
   "mimetype": "text/x-python",
   "name": "python",
   "nbconvert_exporter": "python",
   "pygments_lexer": "ipython3",
   "version": "3.7.7"
  }
 },
 "nbformat": 4,
 "nbformat_minor": 4
}
