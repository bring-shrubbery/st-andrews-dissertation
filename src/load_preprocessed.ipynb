{
 "cells": [
  {
   "cell_type": "code",
   "execution_count": 20,
   "metadata": {},
   "outputs": [],
   "source": [
    "import numpy as np\n",
    "import os\n",
    "import matplotlib.pyplot as plt\n",
    "# from loading import loadAugmentedBinaryDatasetFromFiles"
   ]
  },
  {
   "cell_type": "code",
   "execution_count": 21,
   "metadata": {},
   "outputs": [],
   "source": [
    "USERNAME = 'as521'\n",
    "\n",
    "def loadAugmentedBinaryDatasetFromFiles():\n",
    "    BINARY_DATASET_BASE_URL = '/cs/scratch/{}/generated-features/'.format(USERNAME)\n",
    "    TRAINING_URL = BINARY_DATASET_BASE_URL + 'training/'\n",
    "    VALIDATION_URL = BINARY_DATASET_BASE_URL + 'validation/'\n",
    "    TESTING_URL = BINARY_DATASET_BASE_URL + 'testing/'\n",
    "\n",
    "    X_train, y_train, X_val, y_val, X_test, y_test = [], [], [], [], [], []\n",
    "\n",
    "    for t in ['positive', 'negative']:\n",
    "        TRAIN_URL = TRAINING_URL + t\n",
    "        VAL_URL = VALIDATION_URL + t\n",
    "        TEST_URL = TESTING_URL + t\n",
    "\n",
    "        train_files = os.listdir(TRAIN_URL)\n",
    "        val_files = os.listdir(VAL_URL)\n",
    "        test_files = os.listdir(TEST_URL)\n",
    "\n",
    "        for f in train_files:\n",
    "            FILEPATH = '{}/{}'.format(TRAIN_URL, f)\n",
    "            with open(FILEPATH, 'rb') as file:\n",
    "                X_train.append(np.load(file))\n",
    "                new_y = 1 if t == 'positive' else 0\n",
    "                y_train.append(new_y)\n",
    "        \n",
    "        for f in val_files:\n",
    "            FILEPATH = '{}/{}'.format(VAL_URL, f)\n",
    "            with open(FILEPATH, 'rb') as file:\n",
    "                X_val.append(np.load(file))\n",
    "                new_y = 1 if t == 'positive' else 0\n",
    "                y_val.append(new_y)\n",
    "                \n",
    "        for f in test_files:\n",
    "            FILEPATH = '{}/{}'.format(TEST_URL, f)\n",
    "            with open(FILEPATH, 'rb') as file:\n",
    "                X_test.append(np.load(file))\n",
    "                new_y = 1 if t == 'positive' else 0\n",
    "                y_val.append(new_y)\n",
    "    \n",
    "    X_train = np.array(X_train)\n",
    "    y_train = np.array(y_train)\n",
    "    X_val = np.array(X_val)\n",
    "    y_val = np.array(y_val)\n",
    "    X_test = np.array(X_test)\n",
    "    y_test = np.array(y_test)\n",
    "    \n",
    "    return X_train, y_train, X_val, y_val, X_test, y_test\n",
    "                "
   ]
  },
  {
   "cell_type": "code",
   "execution_count": 22,
   "metadata": {},
   "outputs": [],
   "source": [
    "X_train, y_train, X_val, y_val, X_test, y_test = loadAugmentedBinaryDatasetFromFiles()"
   ]
  },
  {
   "cell_type": "code",
   "execution_count": null,
   "metadata": {},
   "outputs": [],
   "source": []
  }
 ],
 "metadata": {
  "kernelspec": {
   "display_name": "Python 3.7.7 64-bit",
   "language": "python",
   "name": "python37764bit1efb9bb2253a4770a0974d0170251898"
  },
  "language_info": {
   "codemirror_mode": {
    "name": "ipython",
    "version": 3
   },
   "file_extension": ".py",
   "mimetype": "text/x-python",
   "name": "python",
   "nbconvert_exporter": "python",
   "pygments_lexer": "ipython3",
   "version": "3.6.8"
  }
 },
 "nbformat": 4,
 "nbformat_minor": 4
}
