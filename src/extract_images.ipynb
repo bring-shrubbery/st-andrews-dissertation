{
 "cells": [
  {
   "cell_type": "code",
   "execution_count": 10,
   "metadata": {},
   "outputs": [],
   "source": [
    "import numpy as np\n",
    "from loading import loadBinaryDataset, loadAugmentedBinaryDataset"
   ]
  },
  {
   "cell_type": "code",
   "execution_count": 11,
   "metadata": {},
   "outputs": [
    {
     "name": "stdout",
     "output_type": "stream",
     "text": [
      "Unmodified X_train size: 90\n",
      "Unmodified y_train size: 90\n",
      "Unmodified X_val size:   20\n",
      "Unmodified y_val size:   20\n",
      "Unmodified X_test size:  28\n",
      "Unmodified y_test size:  28\n",
      "New X_train 1620\n",
      "New y_train 1620\n",
      "New X_val 360\n",
      "New y_val 360\n",
      "New X_test 504\n",
      "New y_test 504\n"
     ]
    }
   ],
   "source": [
    "X_train, y_train, X_val, y_val, X_test, y_test = loadAugmentedBinaryDataset()"
   ]
  },
  {
   "cell_type": "code",
   "execution_count": 14,
   "metadata": {},
   "outputs": [],
   "source": [
    "USERNAME = 'as521'"
   ]
  },
  {
   "cell_type": "code",
   "execution_count": 15,
   "metadata": {},
   "outputs": [],
   "source": [
    "BASE_URL = '/cs/scratch/{}/generated-features'.format(USERNAME)"
   ]
  },
  {
   "cell_type": "code",
   "execution_count": 31,
   "metadata": {},
   "outputs": [],
   "source": [
    "def saveNumpyImages(base, subdir, X, y):\n",
    "    for i in range(len(X)):\n",
    "        if y[i] == 1:\n",
    "            with open('{}/{}/positive/{}.npy'.format(base, subdir, i), 'wb') as f:\n",
    "                np.save(f, X[i])\n",
    "        elif y[i] == 0:\n",
    "            with open('{}/{}/negative/{}.npy'.format(base, subdir, i), 'wb') as f:\n",
    "                np.save(f, X[i])\n",
    "        else:\n",
    "            print('Unknown output label!')\n",
    "            return"
   ]
  },
  {
   "cell_type": "code",
   "execution_count": 33,
   "metadata": {},
   "outputs": [],
   "source": [
    "saveNumpyImages(BASE_URL, 'training', X_train, y_train)"
   ]
  },
  {
   "cell_type": "code",
   "execution_count": 34,
   "metadata": {},
   "outputs": [],
   "source": [
    "saveNumpyImages(BASE_URL, 'validation', X_val, y_val)"
   ]
  },
  {
   "cell_type": "code",
   "execution_count": 35,
   "metadata": {},
   "outputs": [],
   "source": [
    "saveNumpyImages(BASE_URL, 'testing', X_test, y_test)"
   ]
  },
  {
   "cell_type": "code",
   "execution_count": null,
   "metadata": {},
   "outputs": [],
   "source": []
  }
 ],
 "metadata": {
  "kernelspec": {
   "display_name": "Python 3.7.7 64-bit",
   "language": "python",
   "name": "python37764bit1efb9bb2253a4770a0974d0170251898"
  },
  "language_info": {
   "codemirror_mode": {
    "name": "ipython",
    "version": 3
   },
   "file_extension": ".py",
   "mimetype": "text/x-python",
   "name": "python",
   "nbconvert_exporter": "python",
   "pygments_lexer": "ipython3",
   "version": "3.6.8"
  }
 },
 "nbformat": 4,
 "nbformat_minor": 4
}
